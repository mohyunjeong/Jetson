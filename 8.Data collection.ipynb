{
 "cells": [
  {
   "cell_type": "markdown",
   "metadata": {},
   "source": [
    "### ✅ 신호등 데이터 수집을 위한 활동"
   ]
  },
  {
   "cell_type": "code",
   "execution_count": 15,
   "metadata": {},
   "outputs": [
    {
     "data": {
      "application/vnd.jupyter.widget-view+json": {
       "model_id": "559c25545bdf4cd29e9f557478edb9de",
       "version_major": 2,
       "version_minor": 0
      },
      "text/plain": [
       "Image(value=b'\\xff\\xd8\\xff\\xe0\\x00\\x10JFIF\\x00\\x01\\x01\\x00\\x00\\x01\\x00\\x01\\x00\\x00\\xff\\xdb\\x00C\\x00\\x02\\x01\\x0…"
      ]
     },
     "metadata": {},
     "output_type": "display_data"
    }
   ],
   "source": [
    "from jetbot import Camera, bgr8_to_jpeg\n",
    "from IPython.display import display\n",
    "\n",
    "import ipywidgets.widgets as widgets\n",
    "import traitlets\n",
    "\n",
    "camera = Camera.instance(width = 224, height = 224)\n",
    "image = widgets.Image(format = 'jpeg', width = 224, height = 224)\n",
    "\n",
    "camera_link = traitlets.dlink((camera, 'value'), (image, 'value'), transform = bgr8_to_jpeg)\n",
    "\n",
    "display(image)"
   ]
  },
  {
   "cell_type": "code",
   "execution_count": null,
   "metadata": {},
   "outputs": [],
   "source": [
    "camera_link.unlink() # 카메라 꺼두기"
   ]
  },
  {
   "cell_type": "code",
   "execution_count": 7,
   "metadata": {},
   "outputs": [],
   "source": [
    "# 데이터를 저장하기 위해 red, green 데이터가 들어갈 폴더를 생성\n",
    "\n",
    "import os\n",
    "\n",
    "red_dir = 'dataset/red' # red 폴더\n",
    "green_dir = 'dataset/green' # green 폴더\n",
    "\n",
    "try :\n",
    "    os.makedirs(red_dir)\n",
    "    os.makedirs(green_dir)\n",
    "    \n",
    "except FileExistsError :\n",
    "    print(\"파일이 이미 존재합니다.\")"
   ]
  },
  {
   "cell_type": "code",
   "execution_count": 14,
   "metadata": {},
   "outputs": [
    {
     "data": {
      "application/vnd.jupyter.widget-view+json": {
       "model_id": "4522c904cd7f441e9ae616000e3eb7ba",
       "version_major": 2,
       "version_minor": 0
      },
      "text/plain": [
       "HBox(children=(IntText(value=0, layout=Layout(height='30px', width='128px')), Button(button_style='danger', de…"
      ]
     },
     "metadata": {},
     "output_type": "display_data"
    },
    {
     "data": {
      "application/vnd.jupyter.widget-view+json": {
       "model_id": "06cd6cd78c5d401481cc4ff7c3ff397e",
       "version_major": 2,
       "version_minor": 0
      },
      "text/plain": [
       "HBox(children=(IntText(value=0, layout=Layout(height='30px', width='128px')), Button(button_style='success', d…"
      ]
     },
     "metadata": {},
     "output_type": "display_data"
    }
   ],
   "source": [
    "# 빨간색, 초록색 버튼을 누르면\n",
    "# 몇번 눌렸는지 지금까지 수집한 데이터 갯수를 알려주는 텍스트 박수\n",
    "# danger - 빨강, warning - 주황, info - 파랑, success - 초록\n",
    "\n",
    "button_layout = widgets.Layout(width = '128px', height = '30px') # 버튼 사이즈 설정\n",
    "\n",
    "red_button = widgets.Button(description = 'red data', button_style = 'danger', layout = button_layout)\n",
    "red_count = widgets.IntText(layout = button_layout, value = len(os.listdir(red_dir)))\n",
    "\n",
    "green_button = widgets.Button(description = 'green data', button_style = 'success', layout = button_layout)\n",
    "green_count = widgets.IntText(layout = button_layout, value = len(os.listdir(green_dir)))\n",
    "\n",
    "# display(red_button)\n",
    "# display(red_count)\n",
    "\n",
    "# display(green_button)\n",
    "# display(green_count)\n",
    "\n",
    "display(widgets.HBox([red_count, red_button])) # 수평선에 버튼, 텍스트 박스 위치\n",
    "display(widgets.HBox([green_count, green_button]))"
   ]
  },
  {
   "cell_type": "code",
   "execution_count": null,
   "metadata": {},
   "outputs": [],
   "source": [
    "from uuid import uuid1 # uuid1 -> 현재 시간과 네트워크 주소를 기반으로 고유 식별자를 생성!\n",
    "# 고유 식별자 만드는 라이브러리\n",
    "# Universally Unique Identifier, UUID -> uuid1, uuid2, uuid3, ...\n",
    "\n",
    "def save_snapshot(directory) :\n",
    "    image_path = os.path.join(directory, str(uuid1()) + '.jpg')\n",
    "    with open(image_path, 'wb') as f :\n",
    "        f.write(image.value)\n",
    "        \n",
    "def save_red() :\n",
    "    global red_dir, red_count\n",
    "    save_snapshot(red_dir)\n",
    "    red_count.value = len(os.listdir(red_dir))\n",
    "\n",
    "def save_green() :\n",
    "    global green_dir, green_count\n",
    "    save_snapshot(green_dir)\n",
    "    green_count.value = len(os.listdir(green_dir))\n",
    "    \n",
    "def on_click_save_red(x) :\n",
    "    save_red()\n",
    "    \n",
    "def on_click_save_green(x) :\n",
    "    save_green()\n",
    "    \n",
    "red_button.on_click(on_click_save_red)\n",
    "green_button.on_click(on_click_save_green)"
   ]
  },
  {
   "cell_type": "code",
   "execution_count": null,
   "metadata": {},
   "outputs": [],
   "source": []
  },
  {
   "cell_type": "code",
   "execution_count": null,
   "metadata": {},
   "outputs": [],
   "source": []
  },
  {
   "cell_type": "code",
   "execution_count": null,
   "metadata": {},
   "outputs": [],
   "source": []
  },
  {
   "cell_type": "code",
   "execution_count": null,
   "metadata": {},
   "outputs": [],
   "source": []
  },
  {
   "cell_type": "code",
   "execution_count": null,
   "metadata": {},
   "outputs": [],
   "source": []
  },
  {
   "cell_type": "code",
   "execution_count": null,
   "metadata": {},
   "outputs": [],
   "source": []
  },
  {
   "cell_type": "code",
   "execution_count": null,
   "metadata": {},
   "outputs": [],
   "source": []
  },
  {
   "cell_type": "code",
   "execution_count": null,
   "metadata": {},
   "outputs": [],
   "source": []
  },
  {
   "cell_type": "code",
   "execution_count": null,
   "metadata": {},
   "outputs": [],
   "source": []
  },
  {
   "cell_type": "code",
   "execution_count": null,
   "metadata": {},
   "outputs": [],
   "source": []
  }
 ],
 "metadata": {
  "kernelspec": {
   "display_name": "Python 3",
   "language": "python",
   "name": "python3"
  },
  "language_info": {
   "codemirror_mode": {
    "name": "ipython",
    "version": 3
   },
   "file_extension": ".py",
   "mimetype": "text/x-python",
   "name": "python",
   "nbconvert_exporter": "python",
   "pygments_lexer": "ipython3",
   "version": "3.6.9"
  }
 },
 "nbformat": 4,
 "nbformat_minor": 4
}
