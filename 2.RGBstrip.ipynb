{
 "cells": [
  {
   "cell_type": "code",
   "execution_count": 2,
   "metadata": {},
   "outputs": [],
   "source": [
    "from RGB_Lib import Programing_RGB\n",
    "\n",
    "strip = Programing_RGB()"
   ]
  },
  {
   "cell_type": "code",
   "execution_count": 16,
   "metadata": {},
   "outputs": [],
   "source": [
    "red = 0x00 # 16진수\n",
    "green = 0xff\n",
    "blue = 0xff\n",
    "\n",
    "# Set_All_RGB -> Led 전체를 제어할 수 있음\n",
    "\n",
    "strip.Set_All_RGB(red, green, blue) "
   ]
  },
  {
   "cell_type": "code",
   "execution_count": null,
   "metadata": {},
   "outputs": [],
   "source": [
    "# n진법\n",
    "# 0, 1 -> 2개 -> 2진법\n",
    "# 16진법 -> 16개\n",
    "# 16진법 -> 0 ~ 9, A, B, C, D, E, F"
   ]
  },
  {
   "cell_type": "code",
   "execution_count": 13,
   "metadata": {},
   "outputs": [],
   "source": [
    "# Set_An_RGB -> Led 각각을 제어할 수 있음\n",
    "# 오른쪽 맨 뒤 -> 0번 / 왼쪽 맨 뒤 -> 5번\n",
    "\n",
    "strip.Set_An_RGB(4, 0xff, 0x63, 0x47) # 오른쪽 맨 앞\n",
    "strip.Set_An_RGB(5, 0xff, 0x69, 0xb4) # 왼쪽 맨 뒤"
   ]
  },
  {
   "cell_type": "code",
   "execution_count": 37,
   "metadata": {},
   "outputs": [],
   "source": [
    "strip.OFF_ALL_RGB() # Led 전체 종료"
   ]
  },
  {
   "cell_type": "code",
   "execution_count": 38,
   "metadata": {},
   "outputs": [],
   "source": [
    "# 빨초빨초빨초 ...\n",
    "# 스트림이 가진 led -> 0 ~ 9번까지\n",
    "# 짝수는 다저 블루 / 홀수는 옐로우\n",
    "\n",
    "def summer1():\n",
    "    for num in range(0, 10):\n",
    "        if num % 2 == 0 :\n",
    "            strip.Set_An_RGB(i, 0x1e, 0x90, 0xff)\n",
    "        else :\n",
    "            strip.Set_An_RGB(i, 0xff, 0xff, 0x00)\n",
    "            \n",
    "# 초빨초빨초빨 ...\n",
    "# 짝수는 옐로우 / 홀수는 다저 블루\n",
    "\n",
    "def summer2():\n",
    "    for num in range(0, 10):\n",
    "        if num % 2 == 0 :\n",
    "            strip.Set_An_RGB(i, 0xff, 0xff, 0x00)\n",
    "        else :\n",
    "            strip.Set_An_RGB(i, 0x1e, 0x90, 0xff)"
   ]
  },
  {
   "cell_type": "code",
   "execution_count": 40,
   "metadata": {},
   "outputs": [],
   "source": [
    "import time\n",
    "\n",
    "for i in range(11):\n",
    "    summer1()\n",
    "    time.sleep(0.5)\n",
    "    summer2()\n",
    "    time.sleep(0.5)"
   ]
  },
  {
   "cell_type": "code",
   "execution_count": 58,
   "metadata": {},
   "outputs": [],
   "source": [
    "strip.Set_WaterfallLight_RGB() # 폭포처럼 땅땅땅땅"
   ]
  },
  {
   "cell_type": "code",
   "execution_count": 57,
   "metadata": {},
   "outputs": [],
   "source": [
    "strip.Set_ChameleonLight_RGB() # 카멜리온 색"
   ]
  },
  {
   "cell_type": "code",
   "execution_count": 56,
   "metadata": {},
   "outputs": [],
   "source": [
    "strip.Set_BreathSSpeed_RGB(1) # 밝기 변화 속도"
   ]
  },
  {
   "cell_type": "code",
   "execution_count": 54,
   "metadata": {},
   "outputs": [],
   "source": [
    "strip.Set_BreathColor_RGB() # 색 변화"
   ]
  },
  {
   "cell_type": "code",
   "execution_count": 55,
   "metadata": {},
   "outputs": [],
   "source": [
    "strip.Set_BreathSLight_RGB() # 점점 밝게"
   ]
  }
 ],
 "metadata": {
  "kernelspec": {
   "display_name": "Python 3",
   "language": "python",
   "name": "python3"
  },
  "language_info": {
   "codemirror_mode": {
    "name": "ipython",
    "version": 3
   },
   "file_extension": ".py",
   "mimetype": "text/x-python",
   "name": "python",
   "nbconvert_exporter": "python",
   "pygments_lexer": "ipython3",
   "version": "3.6.9"
  }
 },
 "nbformat": 4,
 "nbformat_minor": 4
}
