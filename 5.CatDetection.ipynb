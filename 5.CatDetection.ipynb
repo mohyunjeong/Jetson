{
 "cells": [
  {
   "cell_type": "markdown",
   "metadata": {},
   "source": [
    "### ✅ CAT Detection\n",
    "- 1. Camera 인스턴스 생성\n",
    "- 2. 카메라 프리뷰\n",
    "- 3. 모델 가져오기\n",
    "- 4. 고양이 얼굴 감지!"
   ]
  },
  {
   "cell_type": "code",
   "execution_count": 1,
   "metadata": {},
   "outputs": [],
   "source": [
    "from jetbot import Camera # 카메라 관련 라이브러리\n",
    "from jetbot import bgr8_to_jpeg # bgr type -> jpeg 변환\n",
    "\n",
    "camera = Camera.instance(width = 720, height = 720)"
   ]
  },
  {
   "cell_type": "code",
   "execution_count": 9,
   "metadata": {},
   "outputs": [
    {
     "data": {
      "application/vnd.jupyter.widget-view+json": {
       "model_id": "113e1206b70c4c01b6af407bcd6a873c",
       "version_major": 2,
       "version_minor": 0
      },
      "text/plain": [
       "Image(value=b'', format='jpeg', height='300', width='300')"
      ]
     },
     "metadata": {},
     "output_type": "display_data"
    }
   ],
   "source": [
    "import ipywidgets.widgets as widgets #파이썬에서 위젯을 활용할 수 있는 라이브러리\n",
    "from IPython.display import display #실제 이미지를 display할 수 있는 라이브러리\n",
    "\n",
    "cat_detect = widgets.Image(width = 300, height = 300, format = 'jpeg') # 인식될 공간\n",
    "\n",
    "display(cat_detect)"
   ]
  },
  {
   "cell_type": "code",
   "execution_count": 3,
   "metadata": {},
   "outputs": [
    {
     "name": "stdout",
     "output_type": "stream",
     "text": [
      "  % Total    % Received % Xferd  Average Speed   Time    Time     Time  Current\n",
      "                                 Dload  Upload   Total   Spent    Left  Speed\n",
      "  0     0    0     0    0     0      0      0 --:--:-- --:--:-- --:--:--     0\n",
      "100  401k  100  401k    0     0   216k      0  0:00:01  0:00:01 --:--:--  584k\n"
     ]
    }
   ],
   "source": [
    "!curl -L -O https://github.com/opencv/opencv/raw/master/data/haarcascades/haarcascade_frontalcatface.xml"
   ]
  },
  {
   "cell_type": "code",
   "execution_count": 4,
   "metadata": {},
   "outputs": [],
   "source": [
    "import cv2\n",
    "\n",
    "cat_cascade = cv2.CascadeClassifier('haarcascade_frontalcatface.xml')\n",
    "\n",
    "cat_x = cat_y = cat_w = cat_h = 0 # 좌표 초기화"
   ]
  },
  {
   "cell_type": "code",
   "execution_count": null,
   "metadata": {},
   "outputs": [],
   "source": [
    "while 1:\n",
    "    frame = camera.value\n",
    "    \n",
    "    cv2.resize(frame, (300, 300))\n",
    "    \n",
    "    gray = cv2.cvtColor(frame, cv2.COLOR_BGR2GRAY)\n",
    "    \n",
    "    cat = cat_cascade.detectMultiScale(gray)\n",
    "    \n",
    "    if len(cat) > 0:\n",
    "        (cat_x, cat_y, cat_w, cat_h) = cat[0]\n",
    "        \n",
    "        # cv2.rectangle(frame,(cat_x,cat_y),(cat_x+cat_w,cat_y+cat_h),(255,0,0),3)\n",
    "        cv2.circle(frame,(int(cat_x+(cat_w/2)),int(cat_y+(cat_h/2))),30,(255,0,0),3)\n",
    "    \n",
    "    cat_detect.value = bgr8_to_jpeg(frame)"
   ]
  }
 ],
 "metadata": {
  "kernelspec": {
   "display_name": "Python 3",
   "language": "python",
   "name": "python3"
  },
  "language_info": {
   "codemirror_mode": {
    "name": "ipython",
    "version": 3
   },
   "file_extension": ".py",
   "mimetype": "text/x-python",
   "name": "python",
   "nbconvert_exporter": "python",
   "pygments_lexer": "ipython3",
   "version": "3.6.9"
  }
 },
 "nbformat": 4,
 "nbformat_minor": 4
}
