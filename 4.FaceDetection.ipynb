{
 "cells": [
  {
   "cell_type": "markdown",
   "metadata": {},
   "source": [
    "### ✅ Face Detection\n",
    "- Face Tracking 진행 예정!"
   ]
  },
  {
   "cell_type": "markdown",
   "metadata": {},
   "source": [
    "### ✅ 1. 카메라 인스턴스 생성"
   ]
  },
  {
   "cell_type": "code",
   "execution_count": 1,
   "metadata": {},
   "outputs": [],
   "source": [
    "from jetbot import Camera # 카메라 관련 라이브러리\n",
    "from jetbot import bgr8_to_jpeg # bgr type -> jpeg 변환\n",
    "\n",
    "camera = Camera.instance(width = 720, height = 720)"
   ]
  },
  {
   "cell_type": "code",
   "execution_count": null,
   "metadata": {},
   "outputs": [],
   "source": [
    "# 오류?\n",
    "# 1) 왼쪽 정지버튼 -> 전체 커널 셧다운\n",
    "# 2) 커널 restart\n",
    "# 3) 재부팅\n",
    "# 4) 카메라 접촉 불량 ..."
   ]
  },
  {
   "cell_type": "markdown",
   "metadata": {},
   "source": [
    "### ✅ 2. 카메라 프리뷰 생성"
   ]
  },
  {
   "cell_type": "code",
   "execution_count": 2,
   "metadata": {},
   "outputs": [
    {
     "data": {
      "application/vnd.jupyter.widget-view+json": {
       "model_id": "43572e276d344c2184c982d9aa8d0eb4",
       "version_major": 2,
       "version_minor": 0
      },
      "text/plain": [
       "Image(value=b'', format='jpeg', height='300', width='300')"
      ]
     },
     "metadata": {},
     "output_type": "display_data"
    }
   ],
   "source": [
    "import ipywidgets.widgets as widgets #파이썬에서 위젯을 활용할 수 있는 라이브러리\n",
    "from IPython.display import display #실제 이미지를 display할 수 있는 라이브러리\n",
    "\n",
    "detect_face = widgets.Image(width = 300, height = 300, format = 'jpeg') # 인식될 공간\n",
    "\n",
    "display(detect_face)"
   ]
  },
  {
   "cell_type": "code",
   "execution_count": null,
   "metadata": {},
   "outputs": [],
   "source": [
    "# 카메라 테스트\n",
    "\n",
    "while 1:\n",
    "    detect_face.value = bgr8_to_jpeg(camera.value) # 카메라 값을 변환시킨다"
   ]
  },
  {
   "cell_type": "markdown",
   "metadata": {},
   "source": [
    "### ✅ 학습된 모델을 가져오자!! \n",
    "\n",
    "- https://github.com/opencv/opencv/tree/master/data/haarcascades"
   ]
  },
  {
   "cell_type": "code",
   "execution_count": 2,
   "metadata": {},
   "outputs": [
    {
     "name": "stdout",
     "output_type": "stream",
     "text": [
      "  % Total    % Received % Xferd  Average Speed   Time    Time     Time  Current\n",
      "                                 Dload  Upload   Total   Spent    Left  Speed\n",
      "  0     0    0     0    0     0      0      0 --:--:-- --:--:-- --:--:--     0\n",
      "100  908k  100  908k    0     0   386k      0  0:00:02  0:00:02 --:--:--  629k\n"
     ]
    }
   ],
   "source": [
    "# curl 명령어 통해서 링크로 학습된 데이터 가져오기!\n",
    "# 터미널창 sudo apt-get install curl\n",
    "!curl -L -O https://github.com/opencv/opencv/raw/master/data/haarcascades/haarcascade_frontalface_default.xml"
   ]
  },
  {
   "cell_type": "code",
   "execution_count": 3,
   "metadata": {},
   "outputs": [],
   "source": [
    "import cv2\n",
    "\n",
    "face_cascade = cv2.CascadeClassifier('haarcascade_frontalface_default.xml')\n",
    "\n",
    "face_x = face_y = face_w = face_h = 0 # 얼굴을 표시할 좌표를 0으로 초기화"
   ]
  },
  {
   "cell_type": "code",
   "execution_count": null,
   "metadata": {},
   "outputs": [],
   "source": [
    "while 1:\n",
    "    frame = camera.value\n",
    "    \n",
    "    cv2.resize(frame, (300, 300)) # 학습된 데이터의 이미지가 300*300 픽셀\n",
    "    \n",
    "    gray = cv2.cvtColor(frame, cv2.COLOR_BGR2GRAY) # 흑백으로 변경\n",
    "    \n",
    "    faces = face_cascade.detectMultiScale(gray) # 흑백 이미지 내에서 얼굴 검출\n",
    "    \n",
    "    if len(faces) > 0 : # 만약 검출된게 있다면\n",
    "        (face_x, face_y, face_w, face_h) = faces[0] # 사진에 좌표 생성\n",
    "        \n",
    "        # 직사각형 그리기!\n",
    "        cv2.rectangle(frame, (face_x, face_y), (face_x + face_w, face_y + face_h), (0, 0, 255), 4) # 직사각형 생성 # (0, 0, 255) -> 빨강\n",
    "    \n",
    "    detect_face.value = bgr8_to_jpeg(frame)"
   ]
  },
  {
   "cell_type": "markdown",
   "metadata": {},
   "source": [
    "### ✅ 눈 검출!\n",
    "- ROT(Region of Interest)"
   ]
  },
  {
   "cell_type": "code",
   "execution_count": 1,
   "metadata": {},
   "outputs": [
    {
     "name": "stdout",
     "output_type": "stream",
     "text": [
      "  % Total    % Received % Xferd  Average Speed   Time    Time     Time  Current\n",
      "                                 Dload  Upload   Total   Spent    Left  Speed\n",
      "  0     0    0     0    0     0      0      0 --:--:-- --:--:-- --:--:--     0\n",
      "100  333k  100  333k    0     0   183k      0  0:00:01  0:00:01 --:--:--  322k\n"
     ]
    }
   ],
   "source": [
    "# 눈 관련 학습 모델 가져오기!\n",
    "!curl -L -O https://github.com/opencv/opencv/raw/master/data/haarcascades/haarcascade_eye.xml"
   ]
  },
  {
   "cell_type": "code",
   "execution_count": 4,
   "metadata": {},
   "outputs": [],
   "source": [
    "import cv2\n",
    "\n",
    "# 눈 관련 cascade 모델 생성!\n",
    "\n",
    "eye_cascade = cv2.CascadeClassifier('haarcascade_eye.xml')\n",
    "\n",
    "# 눈 좌표 초기화\n",
    "\n",
    "eye_x = eye_y = eye_w = eye_h = 0"
   ]
  },
  {
   "cell_type": "code",
   "execution_count": null,
   "metadata": {},
   "outputs": [],
   "source": [
    "while 1:\n",
    "    frame = camera.value\n",
    "    \n",
    "    cv2.resize(frame, (300, 300)) # 학습된 데이터의 이미지가 300*300 픽셀\n",
    "    \n",
    "    gray = cv2.cvtColor(frame, cv2.COLOR_BGR2GRAY) # 흑백으로 변경\n",
    "    \n",
    "    faces = face_cascade.detectMultiScale(gray) # 흑백 이미지 내에서 얼굴 검출\n",
    "    \n",
    "    if len(faces) > 0 : # 만약 검출된게 있다면\n",
    "        (face_x, face_y, face_w, face_h) = faces[0] # 사진에 좌표 생성\n",
    "        \n",
    "        # 직사각형 그리기!\n",
    "        \n",
    "        cv2.rectangle(frame, (face_x, face_y), (face_x + face_w, face_y + face_h), (0, 0, 255), 4)\n",
    "        # 직사각형 생성 # (0, 0, 255) -> 빨강\n",
    "        \n",
    "        # 눈이 검출된다 -> 먼저 얼굴이 검출되어야 함\n",
    "        \n",
    "        roi_region = gray[face_y : face_y + face_h, face_x : face_x + face_w]\n",
    "                     # -> gray 전체 프레임에서 얼굴 영역만 슬라이싱\n",
    "            \n",
    "        roi_color = frame[face_y : face_y + face_h, face_x : face_x + face_w]\n",
    "                    # -> 눈을 표시할 수 있는 도형을 컬러 프레임에 찍기 위함! # 원본 -> frame\n",
    "        \n",
    "        eyes = eye_cascade.detectMultiScale(roi_region) # 눈 검출\n",
    "        \n",
    "        # 눈이 검출되었다면! \n",
    "        \n",
    "        for eye_x, eye_y, eye_w, eye_h in eyes : # 눈이라고 인식된 모든 공간\n",
    "            cv2.rectangle(roi_color, (eye_x, eye_y), (eye_x + eye_w, eye_y + eye_h), (255, 0, 0), 2)\n",
    "            # (255, 0, 0) -> 파랑\n",
    "    \n",
    "    detect_face.value = bgr8_to_jpeg(frame)"
   ]
  },
  {
   "cell_type": "code",
   "execution_count": null,
   "metadata": {},
   "outputs": [],
   "source": []
  }
 ],
 "metadata": {
  "kernelspec": {
   "display_name": "Python 3",
   "language": "python",
   "name": "python3"
  },
  "language_info": {
   "codemirror_mode": {
    "name": "ipython",
    "version": 3
   },
   "file_extension": ".py",
   "mimetype": "text/x-python",
   "name": "python",
   "nbconvert_exporter": "python",
   "pygments_lexer": "ipython3",
   "version": "3.6.9"
  }
 },
 "nbformat": 4,
 "nbformat_minor": 4
}
