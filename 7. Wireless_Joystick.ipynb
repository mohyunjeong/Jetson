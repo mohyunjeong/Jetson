{
 "cells": [
  {
   "cell_type": "code",
   "execution_count": null,
   "metadata": {},
   "outputs": [],
   "source": [
    "# 조이스틱 젯봇 -> 본체로 옮기기"
   ]
  },
  {
   "cell_type": "markdown",
   "metadata": {},
   "source": [
    "### ✅ 무선으로 조이스틱을 활용해보자!\n",
    "- 젯봇 조종, 카메라도 같이 활용\n",
    "- http://html5gamepad.com 사이트 접속"
   ]
  },
  {
   "cell_type": "code",
   "execution_count": 2,
   "metadata": {},
   "outputs": [
    {
     "data": {
      "application/vnd.jupyter.widget-view+json": {
       "model_id": "4fa11000123447b8bd4538e55639d203",
       "version_major": 2,
       "version_minor": 0
      },
      "text/plain": [
       "Controller()"
      ]
     },
     "metadata": {},
     "output_type": "display_data"
    }
   ],
   "source": [
    "import ipywidgets.widgets as widgets\n",
    "\n",
    "from IPython.display import display\n",
    "\n",
    "controller = widgets.Controller(index = 0)\n",
    "\n",
    "display(controller)"
   ]
  },
  {
   "cell_type": "code",
   "execution_count": 13,
   "metadata": {},
   "outputs": [
    {
     "data": {
      "application/vnd.jupyter.widget-view+json": {
       "model_id": "8867524c46374e85a3262d35fc44da0a",
       "version_major": 2,
       "version_minor": 0
      },
      "text/plain": [
       "Image(value=b'\\xff\\xd8\\xff\\xe0\\x00\\x10JFIF\\x00\\x01\\x01\\x00\\x00\\x01\\x00\\x01\\x00\\x00\\xff\\xdb\\x00C\\x00\\x02\\x01\\x0…"
      ]
     },
     "metadata": {},
     "output_type": "display_data"
    }
   ],
   "source": [
    "from jetbot import Camera\n",
    "from jetbot import bgr8_to_jpeg\n",
    "\n",
    "import traitlets\n",
    "\n",
    "camera = Camera.instance(width = 224, height = 224)\n",
    "image = widgets.Image(width = 224, height = 224, format = 'jpeg')\n",
    "\n",
    "camera_link = traitlets.dlink((camera, 'value'), (image, 'value'), transform = bgr8_to_jpeg)\n",
    "# 디지털 링크를 생성해서 카메라 입력과 이미지 위젯 연결!\n",
    "\n",
    "display(image)"
   ]
  },
  {
   "cell_type": "code",
   "execution_count": 5,
   "metadata": {},
   "outputs": [],
   "source": [
    "# 카메라 끄기\n",
    "\n",
    "camera_link.unlink()"
   ]
  },
  {
   "cell_type": "code",
   "execution_count": null,
   "metadata": {},
   "outputs": [],
   "source": [
    "# 조이스틱 조종, 카메라 활용!\n",
    "# 두가지 일을 동시에 처리해야 함! -> Thread 라이브러리 활용해서 동시 작업!"
   ]
  },
  {
   "cell_type": "code",
   "execution_count": 3,
   "metadata": {},
   "outputs": [],
   "source": [
    "# 숫자를 출력하는 함수!\n",
    "\n",
    "import time\n",
    "\n",
    "def count_number(start, end) :\n",
    "    for i in range(start, end + 1) :\n",
    "        print(i, end = \" \")\n",
    "        time.sleep(0.5)\n",
    "    print()"
   ]
  },
  {
   "cell_type": "code",
   "execution_count": 4,
   "metadata": {},
   "outputs": [
    {
     "name": "stdout",
     "output_type": "stream",
     "text": [
      "1 2 3 4 5 6 7 8 9 10 \n",
      "101 102 103 104 105 106 107 108 109 110 \n"
     ]
    }
   ],
   "source": [
    "count_number(1, 10)\n",
    "count_number(101, 110) # 하나가 끝나야 실행! -> 함수는 두개를 동시에 할 수 없음"
   ]
  },
  {
   "cell_type": "markdown",
   "metadata": {},
   "source": [
    "### ✅ Thread 라이브러리 활용하기!\n",
    "- threading을 임포트\n",
    "- threading.Thread(target = 함수, args = (범위 지정))"
   ]
  },
  {
   "cell_type": "code",
   "execution_count": 9,
   "metadata": {},
   "outputs": [
    {
     "name": "stdout",
     "output_type": "stream",
     "text": [
      "1 10 2 11 3 12 13 4 14 5 "
     ]
    }
   ],
   "source": [
    "import threading\n",
    "\n",
    "thread1 = threading.Thread(target = count_number, args = (1, 100))\n",
    "thread2 = threading.Thread(target = count_number, args = (10, 100))\n",
    "\n",
    "thread1.start()\n",
    "thread2.start()"
   ]
  },
  {
   "cell_type": "code",
   "execution_count": 7,
   "metadata": {},
   "outputs": [
    {
     "name": "stdout",
     "output_type": "stream",
     "text": [
      "35 44 36 45 37 46 38 47 "
     ]
    }
   ],
   "source": [
    "# 외부에서 Thread 능동적으로 멈추는 함수 정의\n",
    "\n",
    "import inspect # inspect -> 코드 내의 객체에 대한 정보를 검사하는 데 사용\n",
    "import ctypes # C언어 타입 / ctypes 모듈은 C 라이브러리를 사용하기 위한 외부 함수 호출을 제공하며, 이 때 C 타입을 다루기 위해 사용 \n",
    "\n",
    "# stop_thread(멈출 쓰레드)\n",
    "# 이 함수를 실행하면 쓰레드가 멈춘다!!\n",
    "\n",
    "def _async_raise(tid, exctype): #쓰레드에게 예외를 발생시키는 역할\n",
    "    \n",
    "    \"\"\"raises the exception, performs cleanup if needed\"\"\"\n",
    "    \n",
    "    tid = ctypes.c_long(tid) #쓰레드 식별자를 C 타입인 c_long으로 변환\n",
    "    \n",
    "    if not inspect.isclass(exctype): #exctype가 클래스가 아니면\n",
    "        exctype = type(exctype) # 해당 객체의 타입을 가져와서 클래스로 사용\n",
    "        \n",
    "    res = ctypes.pythonapi.PyThreadState_SetAsyncExc(tid, ctypes.py_object(exctype)) #함수를 사용하여 쓰레드에게 예외를 발생 -> 반환값은 성공 여부\n",
    "    \n",
    "    if res == 0:#반환값이 0이면\n",
    "        raise ValueError(\"invalid thread id\") #쓰레드 식별자가 유효하지 않다는 예외를 발생\n",
    "    elif res != 1:#반환값이 1이 아니면 \n",
    "        # \"\"\"if it returns a number greater than one, you're in trouble,\n",
    "        # and you should call it again with exc=NULL to revert the effect\"\"\"\n",
    "        ctypes.pythonapi.PyThreadState_SetAsyncExc(tid, None) #쓰레드에게 예외를 다시 발생시켜서 효과를 되돌림\n",
    "        \n",
    "def stop_thread(thread): # 주어진 쓰레드를 강제로 종료 \n",
    "    _async_raise(thread.ident, SystemExit) #SystemExit 예외를 발생시킴으로써 쓰레드를 종료"
   ]
  },
  {
   "cell_type": "code",
   "execution_count": 10,
   "metadata": {},
   "outputs": [],
   "source": [
    "stop_thread(thread1)\n",
    "stop_thread(thread2)"
   ]
  },
  {
   "cell_type": "code",
   "execution_count": 12,
   "metadata": {},
   "outputs": [
    {
     "name": "stdout",
     "output_type": "stream",
     "text": [
      "serial Open!\n"
     ]
    }
   ],
   "source": [
    "import custom\n",
    "import head\n",
    "\n",
    "def jetbot_motion():\n",
    "    #[1] -> 조이스틱의 왼쪽 위아래!\n",
    "    \n",
    "    while 1:\n",
    "        \n",
    "        if controller.axes[1].value == 1:\n",
    "            custom.backward()\n",
    "        elif controller.axes[1].value == -1:\n",
    "            custom.forward()\n",
    "            \n",
    "        #[0]버튼 -> 조이스틱의 1번버튼\n",
    "        \n",
    "        if controller.buttons[0].value == True:\n",
    "            custom.stop()\n",
    "        if controller.buttons[1].value == True:\n",
    "            head.center()\n",
    "        if controller.buttons[2].value == True:\n",
    "            head.pan_right()"
   ]
  },
  {
   "cell_type": "code",
   "execution_count": 14,
   "metadata": {},
   "outputs": [],
   "source": [
    "import threading\n",
    "\n",
    "thread3 = threading.Thread(target = jetbot_motion)\n",
    "\n",
    "thread3.start()"
   ]
  },
  {
   "cell_type": "code",
   "execution_count": null,
   "metadata": {},
   "outputs": [],
   "source": []
  }
 ],
 "metadata": {
  "kernelspec": {
   "display_name": "Python 3",
   "language": "python",
   "name": "python3"
  },
  "language_info": {
   "codemirror_mode": {
    "name": "ipython",
    "version": 3
   },
   "file_extension": ".py",
   "mimetype": "text/x-python",
   "name": "python",
   "nbconvert_exporter": "python",
   "pygments_lexer": "ipython3",
   "version": "3.6.9"
  }
 },
 "nbformat": 4,
 "nbformat_minor": 4
}
